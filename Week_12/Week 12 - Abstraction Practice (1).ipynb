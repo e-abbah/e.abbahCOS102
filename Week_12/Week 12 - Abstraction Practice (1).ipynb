{
 "cells": [
  {
   "cell_type": "markdown",
   "metadata": {},
   "source": [
    "# What is Abstraction in OOP"
   ]
  },
  {
   "cell_type": "markdown",
   "metadata": {},
   "source": [
    "<ul><li>Abstraction is the concept of object-oriented programming that “shows” only essential attributes and “hides” unnecessary information.</li><li>The main purpose of abstraction is hiding the unnecessary details from the users. </li><li> Abstraction is selecting data from a larger pool to show only relevant details of the object to the user. </li><li> It helps in reducing programming complexity and efforts. </li><li>It is one of the most important concepts of OOPs.</li></ul> "
   ]
  },
  {
   "cell_type": "markdown",
   "metadata": {},
   "source": [
    "# Abstraction in Python"
   ]
  },
  {
   "cell_type": "markdown",
   "metadata": {},
   "source": [
    "<ul><li>Abstraction in python is defined as hiding the implementation of logic from the client and using the particular application. </li><li>It hides the irrelevant data specified in the project, reducing complexity and giving value to the efficiency.</li><li> Abstraction is made in Python using <b>Abstract classes</b> and their methods in the code.</li></ul>"
   ]
  },
  {
   "cell_type": "markdown",
   "metadata": {},
   "source": [
    "## What is an Abstract Class?"
   ]
  },
  {
   "cell_type": "markdown",
   "metadata": {},
   "source": [
    "<ul><li>Abstract Class is a type of class in OOPs, that declare one or more abstract methods. </li><li>These classes can have abstract methods as well as concrete methods. </li><li>A normal class cannot have abstract methods.</li><li>An abstract class is a class that contains at least one abstract method.</li></ul>"
   ]
  },
  {
   "cell_type": "markdown",
   "metadata": {},
   "source": [
    "## What are Abstract Methods?\n",
    "<ul><li>Abstract Method is a method that has just the method definition but does not contain implementation.</li><li>A method without a body is known as an Abstract Method.</li><li>It must be declared in an abstract class.</li><li>The abstract method will never be final because the abstract class must implement all the abstract methods.</li></ul>"
   ]
  },
  {
   "cell_type": "markdown",
   "metadata": {},
   "source": [
    "## When to use Abstract Methods & Abstract Class?\n",
    "<ul><li>Abstract methods are mostly declared where two or more subclasses are also doing the same thing in different ways through different implementations.</li><li>It also extends the same Abstract class and offers different implementations of the abstract methods.</li><li>Abstract classes help to describe generic types of behaviors and object-oriented programming class hierarchy. </li><li>It also describes subclasses to offer implementation details of the abstract class.</li></ul>"
   ]
  },
  {
   "cell_type": "markdown",
   "metadata": {},
   "source": [
    "## Difference between Abstraction and Encapsulation"
   ]
  },
  {
   "cell_type": "markdown",
   "metadata": {},
   "source": [
    "<table style=\"background-color:#ffe6e6\">\n",
    "    <tr><th><b>Abstraction</b></th><th><b>Encapsulation</b></th></tr>\n",
    "    <tr><td>Abstraction in Object Oriented Programming solves the issues at the design level.</td><td>Encapsulation solves it implementation level.</td></tr>\n",
    "    <tr><td>Abstraction in Programming is about hiding unwanted details while showing most essential information.</td><td>Encapsulation means binding the code and data into a single unit.</td></tr>\n",
    "    <tr><td>Data Abstraction in Java allows focussing on what the information object must contain</td><td>Encapsulation means hiding the internal details or mechanics of how an object does something for security reasons.</td></tr>\n",
    "</table>"
   ]
  },
  {
   "cell_type": "markdown",
   "metadata": {},
   "source": [
    "## Advantages of Abstraction\n",
    "<ol><li>The main benefit of using an Abstraction in Programming is that it allows you to group several related classes as siblings.</li><li>\n",
    "Abstraction in Object Oriented Programming helps to reduce the complexity of the design and implementation process of software.</li></ol>"
   ]
  },
  {
   "cell_type": "markdown",
   "metadata": {},
   "source": [
    "## How Abstract Base classes work : \n",
    "<ul><li>By default, Python does not provide abstract classes. Python comes with a module that provides the base for defining Abstract Base classes(ABC) and that module name is ABC. </li><li>ABC works by decorating methods of the base class as abstract and then registering concrete classes as implementations of the abstract base. </li><li>A method becomes abstract when decorated with the keyword @abstractmethod.</li></ul>"
   ]
  },
  {
   "cell_type": "markdown",
   "metadata": {},
   "source": [
    "#### Syntax\n",
    "\n",
    "Abstract class Syntax is declared as:"
   ]
  },
  {
   "cell_type": "code",
   "execution_count": 7,
   "metadata": {},
   "outputs": [],
   "source": [
    "from abc import ABC\n",
    "\n",
    "# declaration\n",
    "class classname(ABC):\n",
    "    pass\n",
    "        "
   ]
  },
  {
   "cell_type": "markdown",
   "metadata": {},
   "source": [
    "Abstract method Syntax is declared as"
   ]
  },
  {
   "cell_type": "code",
   "execution_count": 8,
   "metadata": {},
   "outputs": [],
   "source": [
    "def abstractmethod_name():\n",
    "    pass\n",
    "        "
   ]
  },
  {
   "cell_type": "markdown",
   "metadata": {},
   "source": [
    "### Few things to be noted in Python:\n",
    "\n",
    "<ul><li>In python, an abstract class can hold both an abstract method and a normal method.</li><li>\n",
    "The second point is an abstract class is not initiated (no objects are created).</li><li>\n",
    "The derived class implementation methods are defined in abstract base classes.</li></ul>"
   ]
  },
  {
   "cell_type": "code",
   "execution_count": 9,
   "metadata": {},
   "outputs": [],
   "source": [
    "from abc import ABC\n",
    "\n",
    "# here abc and ABC are case-sensitive. When we swap it creates"
   ]
  },
  {
   "cell_type": "markdown",
   "metadata": {},
   "source": [
    "### Code I:"
   ]
  },
  {
   "cell_type": "code",
   "execution_count": 10,
   "metadata": {},
   "outputs": [],
   "source": [
    "from abc import ABC, abstractmethod\n",
    "\n",
    "# Abstract Class\n",
    "class product(ABC):                    \n",
    "    \n",
    "    # Normal Method\n",
    "    def item_list(self, rate):\n",
    "        print(\"amount submitted : \",rate)\n",
    "    \n",
    "    # Abstract Method\n",
    "    @abstractmethod\n",
    "    def product(self,rate): \n",
    "        pass                     \n",
    "        "
   ]
  },
  {
   "cell_type": "markdown",
   "metadata": {},
   "source": [
    "### Code II:\n",
    "A program to generate the volume of geometric shapes"
   ]
  },
  {
   "cell_type": "code",
   "execution_count": 16,
   "metadata": {},
   "outputs": [
    {
     "name": "stdout",
     "output_type": "stream",
     "text": [
      "Volume of a rectangle: 144\n",
      "Volume of a circle: 2089.9840000000004\n",
      "Volume of a square: 125\n",
      "Volume of a triangle: 10.0\n"
     ]
    }
   ],
   "source": [
    "from abc import ABC\n",
    "\n",
    "class geometric(ABC):\n",
    "    \n",
    "    def volume(self):\n",
    "        #abstract method\n",
    "        pass\n",
    "    \n",
    "class Rect(geometric):\n",
    "    length = 4\n",
    "    width = 6\n",
    "    height = 6\n",
    "    \n",
    "    def volume(self):\n",
    "        return self.length * self.width *self.height\n",
    "    \n",
    "class Sphere(geometric):\n",
    "    radius = 8\n",
    "    def volume(self):\n",
    "        return 1.3 * 3.14 * self.radius * self.radius *self.radius\n",
    "    \n",
    "class Cube(geometric):\n",
    "    Edge = 5\n",
    "    def volume(self):\n",
    "        return self.Edge * self.Edge *self.Edge\n",
    "    \n",
    "class Triangle_3D:\n",
    "    length = 5\n",
    "    width = 4\n",
    "    def volume(self):\n",
    "        return 0.5 * self.length * self.width\n",
    "    \n",
    "rr = Rect()\n",
    "ss = Sphere()\n",
    "cc = Cube()\n",
    "tt = Triangle_3D()\n",
    "print(\"Volume of a rectangle:\", rr.volume())\n",
    "print(\"Volume of a circle:\", ss.volume())\n",
    "print(\"Volume of a square:\", cc.volume())\n",
    "print(\"Volume of a triangle:\", tt.volume())"
   ]
  },
  {
   "cell_type": "markdown",
   "metadata": {},
   "source": [
    "### Code III\n",
    "A program to generate different invoices"
   ]
  },
  {
   "cell_type": "code",
   "execution_count": 25,
   "metadata": {},
   "outputs": [
    {
     "name": "stdout",
     "output_type": "stream",
     "text": [
      "paycheque of:  6500\n",
      "Purchase of the product:  6500\n",
      "True\n",
      "pay through card of:  2600\n",
      "Purchase of the product:  2600\n",
      "True\n"
     ]
    }
   ],
   "source": [
    "from abc import ABC, abstractmethod\n",
    "\n",
    "class Bill(ABC):\n",
    "    def final_bill(self, pay):\n",
    "        print('Purchase of the product: ', pay)\n",
    "        \n",
    "    @abstractmethod\n",
    "    def Invoice(self, pay):\n",
    "        pass\n",
    "    \n",
    "class Paycheque(Bill):\n",
    "    def Invoice(self, pay):\n",
    "        print('paycheque of: ', pay)\n",
    "        \n",
    "class CardPayment(Bill):\n",
    "    def Invoice(self, pay):\n",
    "        print('pay through card of: ', pay)\n",
    "        \n",
    "aa = Paycheque()\n",
    "aa.Invoice(6500)\n",
    "aa.final_bill(6500)\n",
    "print(isinstance(aa, Bill))\n",
    "aa = CardPayment()\n",
    "aa.Invoice(2600)\n",
    "aa.final_bill(2600)\n",
    "print(isinstance(aa,Bill))"
   ]
  },
  {
   "cell_type": "markdown",
   "metadata": {},
   "source": [
    "### Code IV:\n",
    " Python program showing abstract base class work"
   ]
  },
  {
   "cell_type": "code",
   "execution_count": 30,
   "metadata": {},
   "outputs": [
    {
     "name": "stdout",
     "output_type": "stream",
     "text": [
      "I can walk and run\n",
      "I can crawl\n",
      "I can bark\n",
      "I can roar\n"
     ]
    }
   ],
   "source": [
    "from abc import ABC, abstractmethod\n",
    "\n",
    "class Animal(ABC):\n",
    "\n",
    "    @abstractmethod\n",
    "    def move(self):\n",
    "        pass\n",
    "\n",
    "class Human(Animal):\n",
    "    \n",
    "    def move(self):\n",
    "        print(\"I can walk and run\")\n",
    "\n",
    "class Snake(Animal):\n",
    "    \n",
    "    def move(self):\n",
    "        print(\"I can crawl\")\n",
    "\n",
    "class Dog(Animal):\n",
    "\n",
    "    def move(self):\n",
    "        print(\"I can bark\")\n",
    "\n",
    "class Lion(Animal):\n",
    "    \n",
    "    def move(self):\n",
    "        print(\"I can roar\")\n",
    "\n",
    "# Object Instantiation\n",
    "R = Human()\n",
    "R.move()\n",
    "\n",
    "K = Snake()\n",
    "K.move()\n",
    "\n",
    "R = Dog()\n",
    "R.move()\n",
    "\n",
    "K = Lion()\n",
    "K.move()\n"
   ]
  },
  {
   "cell_type": "markdown",
   "metadata": {},
   "source": [
    "### Concrete Methods in Abstract Base Classes : \n",
    "<ul><li>Concrete (normal) classes contain only concrete (normal) methods whereas abstract classes may contain both concrete methods and abstract methods.</li><li> The concrete class provides an implementation of abstract methods, the abstract base class can also provide an implementation by invoking the methods via super().</li></ul>"
   ]
  },
  {
   "cell_type": "markdown",
   "metadata": {},
   "source": [
    "### Code V:\n",
    "Python program invoking a method using super()"
   ]
  },
  {
   "cell_type": "code",
   "execution_count": 29,
   "metadata": {},
   "outputs": [
    {
     "name": "stdout",
     "output_type": "stream",
     "text": [
      "Abstract Base Class\n",
      "subclass\n"
     ]
    }
   ],
   "source": [
    "from abc import ABC, abstractmethod\n",
    "\n",
    "class Zinc(ABC):\n",
    "    \n",
    "    def rk(self):\n",
    "        print(\"Abstract Base Class\")\n",
    "\n",
    "class Tin(Zinc):\n",
    "    def rk(self):\n",
    "        super().rk()\n",
    "        print(\"subclass\")\n",
    "\n",
    "# Object instantiation\n",
    "r = Tin()\n",
    "r.rk()\n"
   ]
  },
  {
   "cell_type": "markdown",
   "metadata": {},
   "source": [
    "### Code VI:"
   ]
  },
  {
   "cell_type": "code",
   "execution_count": 51,
   "metadata": {},
   "outputs": [
    {
     "name": "stdout",
     "output_type": "stream",
     "text": [
      "Total Naira Value here:  5000\n",
      "Total Naira Value here: 2000\n",
      "Fees submitted :  3500\n"
     ]
    }
   ],
   "source": [
    "from abc import ABC, abstractmethod\n",
    "\n",
    "class Bank(ABC):\n",
    "    def branch(self, Naira):\n",
    "        print(\"Fees submitted : \", Naira)\n",
    "   \n",
    "    @abstractmethod\n",
    "    def bank(self, Naira):\n",
    "        pass\n",
    "\n",
    "class private(Bank):\n",
    "    def bank(self, Naira):\n",
    "        print(\"Total Naira Value here: \", Naira)\n",
    "        \n",
    "class public(Bank):\n",
    "    def bank(self, Naira):\n",
    "        print(\"Total Naira Value here:\", Naira)\n",
    "\n",
    "C = private()\n",
    "C.bank(5000)\n",
    "public().bank(2000)\n",
    "\n",
    "A = public()\n",
    "A.branch(3500)"
   ]
  },
  {
   "cell_type": "markdown",
   "metadata": {},
   "source": [
    "## Class Project I"
   ]
  },
  {
   "cell_type": "markdown",
   "metadata": {},
   "source": [
    "Develop a python OOP program that creates an abstract base class called coup_de_ecriva.  The base class will have one abstract method called <b>Fan_Page</b> and four subclassses namely; <b>FC_Cirok, Madiba_FC, Blue_Jay_FC and TSG_Walker</b>. The program will receive as input the name of the club the user supports and instantiate an object that will invoke the <b>Fan_Page</b> method in the subclass that prints Welcome to <b>\"club name\"</b>.\n",
    "\n",
    "<p><b>Hint:</b></p>\n",
    "The subclasses will use <b>Single Inheritance</b> to inherit the abstract base class.\n",
    " "
   ]
  },
  {
   "cell_type": "code",
   "execution_count": 57,
   "metadata": {},
   "outputs": [
    {
     "name": "stdout",
     "output_type": "stream",
     "text": [
      "Welcome to  Fc Cirok Club\n",
      "Welcome to  Madiba Fc Club\n",
      "Welcome to Blue Jay Fc Club\n",
      "Welcome to TSG walker Club\n"
     ]
    }
   ],
   "source": [
    "from abc import ABC, abstractmethod\n",
    "\n",
    "class Coup_de_escriva(ABC):\n",
    "    # def Welcome(self)\n",
    "\n",
    "    @abstractmethod\n",
    "    def Fan_page(self, Name):\n",
    "        pass\n",
    "class Fc_cirok(Coup_de_escriva):\n",
    "    def Fan_page(self, Name):\n",
    "        print(\"Welcome to \", Name, \"Club\")\n",
    "\n",
    "class Madiba_Fc(Coup_de_escriva):\n",
    "    def Fan_page(self, Name):\n",
    "        print(\"Welcome to \", Name, \"Club\")\n",
    "\n",
    "class Blue_Jay_Fc(Coup_de_escriva):\n",
    "    def Fan_page(self, Name):\n",
    "        print(\"Welcome to\", Name, \"Club\")\n",
    "\n",
    "class TSG_walker(Coup_de_escriva):\n",
    "    def Fan_page(self, Name):\n",
    "        print(\"Welcome to\",  Name, \"Club\")\n",
    "\n",
    "A = Fc_cirok()\n",
    "A.Fan_page(\"Fc Cirok\")\n",
    "B = Madiba_Fc()\n",
    "B.Fan_page(\"Madiba Fc\")\n",
    "C = Blue_Jay_Fc()\n",
    "C.Fan_page(\"Blue Jay Fc\")\n",
    "D = TSG_walker()\n",
    "D.Fan_page(\"TSG walker\")\n",
    "\n",
    "\n",
    "        \n"
   ]
  },
  {
   "cell_type": "markdown",
   "metadata": {},
   "source": [
    "## Class Project II"
   ]
  },
  {
   "cell_type": "markdown",
   "metadata": {},
   "source": [
    "The Service Unit of PAU has contacted you to develop a program to manage some of the External Food Vendors. With your knowledge in python GUI and OOP develop a program to manage the PAU External Food Vendors. The program receives as input the vendor of interest and display the menu of the interested vendor. The External vendors are Faith hostel, Cooperative Hostel, and Student Center. Find below the menus:\n",
    "\n",
    "<table><tr><td>\n",
    "<table style=\"background-color:#47b5ff\">\n",
    "    <tr><th colspan='2'>Cooperative Cafeteria</th></tr>\n",
    "    <tr><th>Main Meal</th><th>Price (N)</th></tr>\n",
    "    <tr><td>Jollof Rice and Stew</td><td>200</td></tr>\n",
    "    <tr><td>White Rice and Stew</td><td>200</td></tr>\n",
    "    <tr><td>Fried Rice</td><td>200</td></tr>\n",
    "    <tr><td>Salad</td><td>100</td></tr>\n",
    "    <tr><td>Platain</td><td>100</td></tr>\n",
    "</table>\n",
    "    </td><td>\n",
    "<table style=\"background-color:pink\">\n",
    "    <tr><th colspan='2'>Faith Hostel Cafeteria</th></tr>\n",
    "    <tr><th>Main Meal</th><th>Price (N)</th></tr>\n",
    "    <tr><td>Fried Rice</td><td>400</td></tr>\n",
    "    <tr><td>White Rice and Stew</td><td>400</td></tr>\n",
    "    <tr><td>Jollof Rice</td><td>400</td></tr>\n",
    "    <tr><td>Beans</td><td>200</td></tr>\n",
    "    <tr><td>Chicken</td><td>1000</td></tr>\n",
    "</table>\n",
    "    </td><td>\n",
    "    <table style=\"background-color:#fcf96c\">\n",
    "    <tr><th colspan='2'>Student Centre Cafeteria</th></tr>\n",
    "    <tr><th>Main Meal</th><th>Price (N)</th></tr>\n",
    "    <tr><td>Chicken Fried Rice</td><td>800</td></tr>\n",
    "    <tr><td>Pomo Sauce</td><td>300</td></tr>\n",
    "    <tr><td>Spaghetti Jollof</td><td>500</td></tr>\n",
    "    <tr><td>Amala/Ewedu</td><td>500</td></tr>\n",
    "    <tr><td>Semo with Eforiro Soup</td><td>500</td></tr>\n",
    "</table>\n",
    "    </td></tr>\n",
    "<table>\n",
    "    \n",
    "<p><b>Hints:</b></p>\n",
    "    <ul><li>The abstract base class is called <b>External_Vendors()</b>.</li><li>\n",
    "        The abstract method is called <b>menu()</b>.</li><li>\n",
    "The subclasses (the different vendors) will inherit the abstract base class.</li><li>\n",
    "        Each subclass will have a normal method called <b>menu()</b>.</li></ul>\n",
    "    \n",
    "       "
   ]
  },
  {
   "cell_type": "code",
   "execution_count": 13,
   "metadata": {},
   "outputs": [
    {
     "name": "stderr",
     "output_type": "stream",
     "text": [
      "Exception in Tkinter callback\n",
      "Traceback (most recent call last):\n",
      "  File \"c:\\Users\\HP\\AppData\\Local\\Programs\\Python\\Python312\\Lib\\tkinter\\__init__.py\", line 1967, in __call__\n",
      "    return self.func(*args)\n",
      "           ^^^^^^^^^^^^^^^^\n",
      "  File \"C:\\Users\\HP\\AppData\\Local\\Temp\\ipykernel_2756\\2374293128.py\", line 76, in submit\n",
      "    frame.destroy()\n",
      "  File \"c:\\Users\\HP\\AppData\\Local\\Programs\\Python\\Python312\\Lib\\tkinter\\__init__.py\", line 2387, in destroy\n",
      "    self.tk.call('destroy', self._w)\n",
      "_tkinter.TclError: can't invoke \"destroy\" command: application has been destroyed\n",
      "Exception in Tkinter callback\n",
      "Traceback (most recent call last):\n",
      "  File \"c:\\Users\\HP\\AppData\\Local\\Programs\\Python\\Python312\\Lib\\tkinter\\__init__.py\", line 1967, in __call__\n",
      "    return self.func(*args)\n",
      "           ^^^^^^^^^^^^^^^^\n",
      "  File \"C:\\Users\\HP\\AppData\\Local\\Temp\\ipykernel_2756\\2374293128.py\", line 76, in submit\n",
      "    frame.destroy()\n",
      "  File \"c:\\Users\\HP\\AppData\\Local\\Programs\\Python\\Python312\\Lib\\tkinter\\__init__.py\", line 2387, in destroy\n",
      "    self.tk.call('destroy', self._w)\n",
      "_tkinter.TclError: can't invoke \"destroy\" command: application has been destroyed\n"
     ]
    }
   ],
   "source": [
    "from abc import ABC, abstractmethod\n",
    "from tkinter import *\n",
    "from tkinter import messagebox\n",
    "\n",
    "\n",
    "class External_Vendors(ABC):\n",
    "    # def Welcome(self)\n",
    "\n",
    "    @abstractmethod\n",
    "    def menu(self, vendor):\n",
    "        pass\n",
    "class Coop_cafe(External_Vendors):\n",
    "    def menu(self):\n",
    "        menu1 = {\"Jollof Rice and Stew\" : 200, \"White Rice and Stew\": 200, \"Fried Rice\": 200, \"Salad\": 100, \"Plantain\":100}\n",
    "        return menu1\n",
    "class Faith_hostel(External_Vendors):\n",
    "    def menu(self):\n",
    "        menu2 = {\"Fried Rice\": 400, \"White Rice and stew\":400, \"Jollof Rice\":400, \"Beans\":200, \"Chicken\":1000}\n",
    "        return menu2\n",
    "class Student_centre(External_Vendors):\n",
    "    def menu(self):\n",
    "        menu3 = {\"Chicken Fried rice\":800, \"Pomo Sauce\":300, \"Spaghetti Jollof\":500, \"Amala/Ewedu\":500, \"Semo with Eforiro soup\":500}\n",
    "        return menu3\n",
    "    \n",
    "\n",
    "def submit():\n",
    "    def create_table(root, rows, columns, info, header_text):\n",
    "        header = Label(root, text=header_text, font=(\"Helvetica\", 16, \"bold\"), padx=10, pady=10)\n",
    "        header.grid(row=0, column=0, columnspan=columns, sticky=\"ew\")\n",
    "\n",
    "        name_header = Label(root, text=\"Main Meal\", font=(\"Helvetica\", 12, \"bold\"), borderwidth=1, relief=\"solid\", width=15, height=2)\n",
    "        name_header.grid(row=1, column=0, sticky=\"nsew\")\n",
    "        age_header = Label(root, text=\"Price(N)\", font=(\"Helvetica\", 12, \"bold\"), borderwidth=1, relief=\"solid\", width=15, height=2)\n",
    "        age_header.grid(row=1, column=1, sticky=\"nsew\")\n",
    "\n",
    "        for index, (meal, price) in enumerate(info.items()):\n",
    "            row = index + 2  # Adjust for header rows\n",
    "            name_label = Label(root, text=meal, borderwidth=1, relief=\"solid\", width=15, height=2)\n",
    "            name_label.grid(row=row, column=0, sticky=\"nsew\")\n",
    "            age_label = Label(root, text=str(price), borderwidth=1, relief=\"solid\", width=15, height=2)\n",
    "            age_label.grid(row=row, column=1, sticky=\"nsew\")\n",
    "\n",
    "        # Make the grid cells expand proportionally when the window is resized\n",
    "        for col in range(columns):\n",
    "            root.grid_columnconfigure(col, weight=1)\n",
    "        for row in range(rows + 2):  # Adjust the range to account for the header rows\n",
    "            root.grid_rowconfigure(row, weight=1)\n",
    "\n",
    "\n",
    "        \n",
    "\n",
    "\n",
    "\n",
    "    frame = Tk()\n",
    "    frame.title(\"food_vendor\")\n",
    "    num_rows = 5\n",
    "    num_columns = 2\n",
    "    vendor = (entry1.get()).lower()\n",
    "    if vendor == \"faith hostel\":\n",
    "        choice = Faith_hostel()\n",
    "        info = choice.menu()\n",
    "        header_text = \"Faith Hostel Cafetaria\"\n",
    "        create_table(frame, num_rows, num_columns, info, header_text)\n",
    "    elif vendor == \"cooperative hostel\":\n",
    "        choice = Coop_cafe()\n",
    "        info = choice.menu()\n",
    "        header_text = \"Cooperative Hostel Cafetaria\"\n",
    "        create_table(frame, num_rows, num_columns, info, header_text)\n",
    "    elif vendor == \"student centre\":\n",
    "        choice = Student_centre()\n",
    "        info = choice.menu()\n",
    "        header_text = \"Student Centre Cafetaria\"\n",
    "        create_table(frame, num_rows, num_columns, info, header_text)\n",
    "    else:\n",
    "        frame.destroy()\n",
    "        messagebox.showerror(\"Vendor\", \"Preferred Vendor is not valid\")\n",
    "        \n",
    "        \n",
    "        \n",
    "\n",
    "\n",
    "\n",
    "\n",
    "root = Tk()\n",
    "root.title(\"food_vendors\")\n",
    "root.geometry(\"200x200\")\n",
    "\n",
    "label1 = Label(root, text=\"Enter Preferred Vendor\")\n",
    "label1.pack()\n",
    "entry1 = Entry(root)\n",
    "entry1.pack()\n",
    "\n",
    "submit = Button(root, text=\"Submit\", command=submit)\n",
    "submit.pack()\n",
    "\n",
    "root.mainloop()\n",
    "\n",
    "\n",
    "    \n",
    "        \n"
   ]
  },
  {
   "cell_type": "code",
   "execution_count": 6,
   "metadata": {},
   "outputs": [],
   "source": [
    "import tkinter as tk\n",
    "\n",
    "def create_table(root, rows, columns, data, header_text):\n",
    "    # Create a header label\n",
    "    header = tk.Label(root, text=header_text, font=(\"Helvetica\", 16, \"bold\"), padx=10, pady=10)\n",
    "    header.grid(row=0, column=0, columnspan=columns, sticky=\"ew\")\n",
    "\n",
    "    # Create column headers for name and age\n",
    "    name_header = tk.Label(root, text=\"Name\", font=(\"Helvetica\", 12, \"bold\"), borderwidth=1, relief=\"solid\", width=15, height=2)\n",
    "    name_header.grid(row=1, column=0, sticky=\"nsew\")\n",
    "    age_header = tk.Label(root, text=\"Age\", font=(\"Helvetica\", 12, \"bold\"), borderwidth=1, relief=\"solid\", width=15, height=2)\n",
    "    age_header.grid(row=1, column=1, sticky=\"nsew\")\n",
    "\n",
    "    # Add data to the table\n",
    "    for index, (name, age) in enumerate(data.items()):\n",
    "        row = index + 2  # Adjust for header rows\n",
    "        name_label = tk.Label(root, text=name, borderwidth=1, relief=\"solid\", width=15, height=2)\n",
    "        name_label.grid(row=row, column=0, sticky=\"nsew\")\n",
    "        age_label = tk.Label(root, text=str(age), borderwidth=1, relief=\"solid\", width=15, height=2)\n",
    "        age_label.grid(row=row, column=1, sticky=\"nsew\")\n",
    "\n",
    "    # Make the grid cells expand proportionally when the window is resized\n",
    "    for col in range(columns):\n",
    "        root.grid_columnconfigure(col, weight=1)\n",
    "    for row in range(rows + 2):  # Adjust the range to account for the header rows\n",
    "        root.grid_rowconfigure(row, weight=1)\n",
    "\n",
    "# Dictionary of names and ages\n",
    "data = {\n",
    "    \"Alice\": 25,\n",
    "    \"Bob\": 30,\n",
    "    \"Charlie\": 35,\n",
    "    \"David\": 40,\n",
    "    \"Eva\": 28,\n",
    "    \"Frank\": 33,\n",
    "    \"Grace\": 27,\n",
    "    \"Helen\": 31,\n",
    "    \"Ivy\": 26,\n",
    "    \"Jack\": 29\n",
    "}\n",
    "\n",
    "# Create the main window\n",
    "root = tk.Tk()\n",
    "root.title(\"Table with Header and Sequential Names and Ages\")\n",
    "\n",
    "# Define the number of rows and columns\n",
    "num_rows = len(data)\n",
    "num_columns = 2\n",
    "\n",
    "# Header text\n",
    "header_text = \"List of Participants with Ages\"\n",
    "\n",
    "# Create the table with header\n",
    "create_table(root, num_rows, num_columns, data, header_text)\n",
    "\n",
    "# Start the Tkinter main loop\n",
    "root.mainloop()\n"
   ]
  }
 ],
 "metadata": {
  "kernelspec": {
   "display_name": "Python 3",
   "language": "python",
   "name": "python3"
  },
  "language_info": {
   "codemirror_mode": {
    "name": "ipython",
    "version": 3
   },
   "file_extension": ".py",
   "mimetype": "text/x-python",
   "name": "python",
   "nbconvert_exporter": "python",
   "pygments_lexer": "ipython3",
   "version": "3.12.2"
  }
 },
 "nbformat": 4,
 "nbformat_minor": 4
}
